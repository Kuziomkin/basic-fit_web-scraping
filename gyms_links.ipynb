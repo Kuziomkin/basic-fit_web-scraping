{
 "cells": [
  {
   "cell_type": "markdown",
   "metadata": {},
   "source": [
    "# Basic-Fit analysis\n",
    "\n",
    "The Basic-Fit analysis project aims to gain valuable insights from open-source data about all Basic-Fit gyms. The primary goal is to analyze the ratings, number of reviews, comments, and sentiment across all branches. By doing so, this project can help the business better understand end-users' problems and identify any weak points in some branches.\n",
    "\n",
    "With this information, Basic-Fit can make data-driven decisions to improve customer satisfaction and address any issues that may arise. The project could potentially identify areas where branches are performing exceptionally well and use those as examples for other branches to follow. Overall, the project's findings can provide valuable insights into Basic-Fit's performance and help the business improve its operations to better serve its customers."
   ]
  },
  {
   "cell_type": "markdown",
   "metadata": {},
   "source": [
    "## Set up configurations"
   ]
  },
  {
   "cell_type": "code",
   "execution_count": 39,
   "metadata": {},
   "outputs": [],
   "source": [
    "from selenium import webdriver\n",
    "from selenium.webdriver.chrome.service import Service\n",
    "from selenium.webdriver.chrome.options import Options\n",
    "from webdriver_manager.chrome import ChromeDriverManager\n",
    "import pandas as pd\n",
    "import os"
   ]
  },
  {
   "cell_type": "code",
   "execution_count": 40,
   "metadata": {},
   "outputs": [],
   "source": [
    "#set up configuraitons\n",
    "options = Options()\n",
    "options.add_argument(\"--disable-blink-features=AutomationControlled\")\n",
    "\n",
    "#create a list of Countries and Cities\n",
    "#countries_cities = {\"Spain\" : ['Madrid', 'Barcelona', 'Valencia', 'Seville', 'Zaragoza', 'Málaga', 'Murcia', 'Palma', 'Las Palmas de Gran Canaria', 'Bilbao', 'Alicante', 'Córdoba', 'Valladolid', 'Vigo', 'Gijón', 'L Hospitalet de Llobregat', 'A Coruña', 'Vitoria-Gasteiz', 'Granada', 'Elche']}\n",
    "countries_cities = {\"Spain\" : ['Madrid', 'Barcelona', 'Valencia', 'Seville', 'Zaragoza', 'Málaga', 'Murcia', 'Palma', 'Las Palmas de Gran Canaria', 'Bilbao', 'Alicante', 'Córdoba', 'Valladolid', 'Vigo']}"
   ]
  },
  {
   "cell_type": "code",
   "execution_count": 41,
   "metadata": {},
   "outputs": [],
   "source": [
    "#create Dataframe for collecting data\n",
    "if os.path.isfile(\"basic-fit.csv\"):\n",
    "    #read file\n",
    "    df = pd.read_csv(\n",
    "        \"basic-fit.csv\",\n",
    "        dtype={\n",
    "            \"Name\" : str,\n",
    "            \"Country\" : str,\n",
    "            \"City\" : str,\n",
    "            \"Address\" : str,\n",
    "            \"Rating\" : float,\n",
    "            \"Reviews\" : int,\n",
    "            \"Site\" : str,\n",
    "            \"Link\" : str\n",
    "        }\n",
    "        )\n",
    "else:\n",
    "    # create an empty dataframe with columns\n",
    "    df = pd.DataFrame({\n",
    "        \"Name\" : pd.Series(dtype=\"str\"),\n",
    "        \"Country\" : pd.Series(dtype=\"str\"),\n",
    "        \"City\" : pd.Series(dtype=\"str\"),  \n",
    "        \"Address\" : pd.Series(dtype=\"str\"),\n",
    "        \"Rating\" : pd.Series(dtype=\"float\"),\n",
    "        \"Reviews\" : pd.Series(dtype=\"int\"),\n",
    "        \"Site\" : pd.Series(dtype=\"str\"), \n",
    "        \"Link\" : pd.Series(dtype=\"str\")\n",
    "        })"
   ]
  },
  {
   "cell_type": "markdown",
   "metadata": {},
   "source": [
    "## Defining the question\n",
    "\n",
    "1. What is the overall customer satisfaction rating for Basic-Fit chains?\n",
    "2. How does the customer satisfaction rating vary across different Basic-Fit chains?\n",
    "3. What are the most common complaints and positive feedback from customers about Basic-Fit chains?\n",
    "4. How does the customer satisfaction rating correlate with the location, size or age of the Basic-Fit chain?\n",
    "5. Are there any notable differences in customer satisfaction between Basic-Fit chains in different countries or regions?\n",
    "6. How does Basic-Fit chains compare with other fitness chains in terms of customer satisfaction rating?\n",
    "7. What are the factors that drive customer satisfaction for Basic-Fit chains?\n",
    "8. How has the customer satisfaction rating for Basic-Fit chains changed over time?\n",
    "9. What improvements could Basic-Fit chains make to enhance customer satisfaction?\n",
    "10. Are there any patterns or trends in the customer feedback for Basic-Fit chains that can be used to inform future business decisions?"
   ]
  },
  {
   "cell_type": "markdown",
   "metadata": {},
   "source": [
    "## Collecting the data"
   ]
  },
  {
   "cell_type": "code",
   "execution_count": 42,
   "metadata": {},
   "outputs": [
    {
     "name": "stderr",
     "output_type": "stream",
     "text": [
      "[WDM] - Downloading: 100%|██████████| 8.00M/8.00M [00:00<00:00, 32.2MB/s]\n"
     ]
    }
   ],
   "source": [
    "#scrape data from the google map\n",
    "for country, cities in countries_cities.items():\n",
    "    for city in cities:\n",
    "        driver = webdriver.Chrome(service=Service(ChromeDriverManager().install()), options=options)\n",
    "        driver.get(f\"https://www.google.com/maps/search/basic-fit+near+{city}+in+{country}/\")\n",
    "\n",
    "        #accept offerta\n",
    "        accept_button = driver.find_elements(\"xpath\", \"//button[@aria-label='Accept all']\")[0]\n",
    "        accept_button.click()\n",
    "\n",
    "        #find branches ellements\n",
    "        branches = driver.find_elements(\"xpath\", \"//div[contains(@aria-label,'Basic-Fit') and @class='Nv2PK tH5CWc THOPZb ']\")\n",
    "        \n",
    "        #get data from the element\n",
    "        for branch in branches:\n",
    "\n",
    "            #branch name\n",
    "            branch_name = branch.get_attribute(\"aria-label\")\n",
    "\n",
    "            #branch detaled information link\n",
    "            detailed_web = branch.find_element(\"xpath\", \".//a[@class='hfpxzc']\")\n",
    "            detailed_web_link = detailed_web.get_attribute(\"href\")\n",
    "\n",
    "            #branch adress\n",
    "            branch_address_el = branch.find_element(\"xpath\", \".//div[@class='W4Efsd']/span[2]/jsl/span[2]\")\n",
    "            branch_address = branch_address_el.get_attribute(\"innerHTML\")\n",
    "\n",
    "            #branch rating\n",
    "            rating = branch.find_element(\"xpath\", \".//div[@class='AJB7ye']/span[2]/span[2]\")\n",
    "            rating_text = rating.get_attribute(\"aria-label\")\n",
    "            stars = rating_text.split(\"stars\")[0].strip()\n",
    "\n",
    "            #branch reviews\n",
    "            reviews = rating_text.split(\"stars\")[1].strip().split(\" \")[0].replace(\",\", \"\")\n",
    "\n",
    "            #branch web site\n",
    "            branch_web = branch.find_element(\"xpath\", \".//a[@class='lcr4fd S9kvJb']\")\n",
    "            branch_web_link = branch_web.get_attribute(\"href\")\n",
    "\n",
    "            #create a new row\n",
    "            new_row = {\n",
    "                    \"Name\" : f\"{branch_name}\",\n",
    "                    \"Country\" : f\"{country}\",\n",
    "                    \"City\" : f\"{city}\",\n",
    "                    \"Address\" : f\"{branch_address}\",\n",
    "                    \"Rating\" : f\"{stars}\",\n",
    "                    \"Reviews\" : f\"{reviews}\",\n",
    "                    \"Site\" : f\"{branch_web_link}\",\n",
    "                    \"Link\" : f\"{detailed_web_link}\"\n",
    "                }\n",
    "\n",
    "            #add the row to the datafame\n",
    "            df = pd.concat([df, pd.DataFrame([new_row])], ignore_index=True)\n",
    "\n",
    "# Close the browser window\n",
    "driver.quit()"
   ]
  },
  {
   "cell_type": "markdown",
   "metadata": {},
   "source": [
    "## Cleaning the data"
   ]
  },
  {
   "cell_type": "code",
   "execution_count": 43,
   "metadata": {},
   "outputs": [
    {
     "data": {
      "text/plain": [
       "(64, 8)"
      ]
     },
     "execution_count": 43,
     "metadata": {},
     "output_type": "execute_result"
    }
   ],
   "source": [
    "#get dataframe shape\n",
    "df.shape"
   ]
  },
  {
   "cell_type": "code",
   "execution_count": 60,
   "metadata": {},
   "outputs": [
    {
     "name": "stdout",
     "output_type": "stream",
     "text": [
      "<class 'pandas.core.frame.DataFrame'>\n",
      "RangeIndex: 64 entries, 0 to 63\n",
      "Data columns (total 8 columns):\n",
      " #   Column   Non-Null Count  Dtype  \n",
      "---  ------   --------------  -----  \n",
      " 0   Name     64 non-null     object \n",
      " 1   Country  64 non-null     object \n",
      " 2   City     64 non-null     object \n",
      " 3   Address  64 non-null     object \n",
      " 4   Rating   64 non-null     float64\n",
      " 5   Reviews  64 non-null     int64  \n",
      " 6   Site     64 non-null     object \n",
      " 7   Link     64 non-null     object \n",
      "dtypes: float64(1), int64(1), object(6)\n",
      "memory usage: 4.1+ KB\n"
     ]
    }
   ],
   "source": [
    "#check column datatypes\n",
    "df.info()"
   ]
  },
  {
   "cell_type": "code",
   "execution_count": 59,
   "metadata": {},
   "outputs": [
    {
     "data": {
      "text/plain": [
       "Name        object\n",
       "Country     object\n",
       "City        object\n",
       "Address     object\n",
       "Rating     float64\n",
       "Reviews      int64\n",
       "Site        object\n",
       "Link        object\n",
       "dtype: object"
      ]
     },
     "execution_count": 59,
     "metadata": {},
     "output_type": "execute_result"
    }
   ],
   "source": [
    "#change dtypes\n",
    "df[\"Rating\"] = df[\"Rating\"].astype(float)\n",
    "df[\"Reviews\"] = df[\"Reviews\"].astype(int)\n",
    "df.dtypes"
   ]
  },
  {
   "cell_type": "code",
   "execution_count": 45,
   "metadata": {},
   "outputs": [
    {
     "data": {
      "text/html": [
       "<div>\n",
       "<style scoped>\n",
       "    .dataframe tbody tr th:only-of-type {\n",
       "        vertical-align: middle;\n",
       "    }\n",
       "\n",
       "    .dataframe tbody tr th {\n",
       "        vertical-align: top;\n",
       "    }\n",
       "\n",
       "    .dataframe thead th {\n",
       "        text-align: right;\n",
       "    }\n",
       "</style>\n",
       "<table border=\"1\" class=\"dataframe\">\n",
       "  <thead>\n",
       "    <tr style=\"text-align: right;\">\n",
       "      <th></th>\n",
       "      <th>Name</th>\n",
       "      <th>Country</th>\n",
       "      <th>City</th>\n",
       "      <th>Address</th>\n",
       "      <th>Rating</th>\n",
       "      <th>Reviews</th>\n",
       "      <th>Site</th>\n",
       "      <th>Link</th>\n",
       "    </tr>\n",
       "  </thead>\n",
       "  <tbody>\n",
       "    <tr>\n",
       "      <th>0</th>\n",
       "      <td>Basic-Fit Madrid Goya</td>\n",
       "      <td>Spain</td>\n",
       "      <td>Madrid</td>\n",
       "      <td>Calle de Goya, 43</td>\n",
       "      <td>3.9</td>\n",
       "      <td>524</td>\n",
       "      <td>https://www.google.com/aclk?sa=l&amp;ai=DChcSEwi-1...</td>\n",
       "      <td>https://www.google.com/maps/place/Basic-Fit+Ma...</td>\n",
       "    </tr>\n",
       "    <tr>\n",
       "      <th>1</th>\n",
       "      <td>Basic-Fit</td>\n",
       "      <td>Spain</td>\n",
       "      <td>Madrid</td>\n",
       "      <td>C. de Atocha, 24</td>\n",
       "      <td>3.5</td>\n",
       "      <td>1000</td>\n",
       "      <td>https://www.basic-fit.com/es-es/gimnasio/basic...</td>\n",
       "      <td>https://www.google.com/maps/place/Basic-Fit/da...</td>\n",
       "    </tr>\n",
       "    <tr>\n",
       "      <th>2</th>\n",
       "      <td>Basic-Fit Madrid Núñez de Balboa</td>\n",
       "      <td>Spain</td>\n",
       "      <td>Madrid</td>\n",
       "      <td>Calle de Núñez de Balboa, 115</td>\n",
       "      <td>4.0</td>\n",
       "      <td>600</td>\n",
       "      <td>https://www.basic-fit.com/es-es/gimnasio/basic...</td>\n",
       "      <td>https://www.google.com/maps/place/Basic-Fit+Ma...</td>\n",
       "    </tr>\n",
       "    <tr>\n",
       "      <th>3</th>\n",
       "      <td>Basic-Fit</td>\n",
       "      <td>Spain</td>\n",
       "      <td>Madrid</td>\n",
       "      <td>C. de la Montera, 41</td>\n",
       "      <td>3.6</td>\n",
       "      <td>535</td>\n",
       "      <td>https://www.basic-fit.com/es-es/gimnasio/basic...</td>\n",
       "      <td>https://www.google.com/maps/place/Basic-Fit/da...</td>\n",
       "    </tr>\n",
       "    <tr>\n",
       "      <th>4</th>\n",
       "      <td>Basic-Fit Madrid Sor Ángela de la Cruz</td>\n",
       "      <td>Spain</td>\n",
       "      <td>Madrid</td>\n",
       "      <td>C. de Sor Ángela de la Cruz, 24</td>\n",
       "      <td>3.4</td>\n",
       "      <td>773</td>\n",
       "      <td>https://www.basic-fit.com/es-es/gimnasio/basic...</td>\n",
       "      <td>https://www.google.com/maps/place/Basic-Fit+Ma...</td>\n",
       "    </tr>\n",
       "  </tbody>\n",
       "</table>\n",
       "</div>"
      ],
      "text/plain": [
       "                                     Name Country    City  \\\n",
       "0                   Basic-Fit Madrid Goya   Spain  Madrid   \n",
       "1                               Basic-Fit   Spain  Madrid   \n",
       "2        Basic-Fit Madrid Núñez de Balboa   Spain  Madrid   \n",
       "3                               Basic-Fit   Spain  Madrid   \n",
       "4  Basic-Fit Madrid Sor Ángela de la Cruz   Spain  Madrid   \n",
       "\n",
       "                           Address Rating Reviews  \\\n",
       "0                Calle de Goya, 43    3.9     524   \n",
       "1                 C. de Atocha, 24    3.5    1000   \n",
       "2    Calle de Núñez de Balboa, 115    4.0     600   \n",
       "3             C. de la Montera, 41    3.6     535   \n",
       "4  C. de Sor Ángela de la Cruz, 24    3.4     773   \n",
       "\n",
       "                                                Site  \\\n",
       "0  https://www.google.com/aclk?sa=l&ai=DChcSEwi-1...   \n",
       "1  https://www.basic-fit.com/es-es/gimnasio/basic...   \n",
       "2  https://www.basic-fit.com/es-es/gimnasio/basic...   \n",
       "3  https://www.basic-fit.com/es-es/gimnasio/basic...   \n",
       "4  https://www.basic-fit.com/es-es/gimnasio/basic...   \n",
       "\n",
       "                                                Link  \n",
       "0  https://www.google.com/maps/place/Basic-Fit+Ma...  \n",
       "1  https://www.google.com/maps/place/Basic-Fit/da...  \n",
       "2  https://www.google.com/maps/place/Basic-Fit+Ma...  \n",
       "3  https://www.google.com/maps/place/Basic-Fit/da...  \n",
       "4  https://www.google.com/maps/place/Basic-Fit+Ma...  "
      ]
     },
     "execution_count": 45,
     "metadata": {},
     "output_type": "execute_result"
    }
   ],
   "source": [
    "#get data sample\n",
    "df.head()"
   ]
  },
  {
   "cell_type": "code",
   "execution_count": 61,
   "metadata": {},
   "outputs": [
    {
     "data": {
      "text/html": [
       "<div>\n",
       "<style scoped>\n",
       "    .dataframe tbody tr th:only-of-type {\n",
       "        vertical-align: middle;\n",
       "    }\n",
       "\n",
       "    .dataframe tbody tr th {\n",
       "        vertical-align: top;\n",
       "    }\n",
       "\n",
       "    .dataframe thead th {\n",
       "        text-align: right;\n",
       "    }\n",
       "</style>\n",
       "<table border=\"1\" class=\"dataframe\">\n",
       "  <thead>\n",
       "    <tr style=\"text-align: right;\">\n",
       "      <th></th>\n",
       "      <th>Rating</th>\n",
       "      <th>Reviews</th>\n",
       "    </tr>\n",
       "  </thead>\n",
       "  <tbody>\n",
       "    <tr>\n",
       "      <th>count</th>\n",
       "      <td>64.000000</td>\n",
       "      <td>64.000000</td>\n",
       "    </tr>\n",
       "    <tr>\n",
       "      <th>mean</th>\n",
       "      <td>4.293750</td>\n",
       "      <td>309.046875</td>\n",
       "    </tr>\n",
       "    <tr>\n",
       "      <th>std</th>\n",
       "      <td>0.445034</td>\n",
       "      <td>304.714513</td>\n",
       "    </tr>\n",
       "    <tr>\n",
       "      <th>min</th>\n",
       "      <td>3.300000</td>\n",
       "      <td>6.000000</td>\n",
       "    </tr>\n",
       "    <tr>\n",
       "      <th>25%</th>\n",
       "      <td>3.900000</td>\n",
       "      <td>42.000000</td>\n",
       "    </tr>\n",
       "    <tr>\n",
       "      <th>50%</th>\n",
       "      <td>4.200000</td>\n",
       "      <td>221.000000</td>\n",
       "    </tr>\n",
       "    <tr>\n",
       "      <th>75%</th>\n",
       "      <td>4.800000</td>\n",
       "      <td>479.000000</td>\n",
       "    </tr>\n",
       "    <tr>\n",
       "      <th>max</th>\n",
       "      <td>4.900000</td>\n",
       "      <td>1135.000000</td>\n",
       "    </tr>\n",
       "  </tbody>\n",
       "</table>\n",
       "</div>"
      ],
      "text/plain": [
       "          Rating      Reviews\n",
       "count  64.000000    64.000000\n",
       "mean    4.293750   309.046875\n",
       "std     0.445034   304.714513\n",
       "min     3.300000     6.000000\n",
       "25%     3.900000    42.000000\n",
       "50%     4.200000   221.000000\n",
       "75%     4.800000   479.000000\n",
       "max     4.900000  1135.000000"
      ]
     },
     "execution_count": 61,
     "metadata": {},
     "output_type": "execute_result"
    }
   ],
   "source": [
    "#describe data\n",
    "df.describe()"
   ]
  },
  {
   "cell_type": "code",
   "execution_count": 62,
   "metadata": {},
   "outputs": [
    {
     "data": {
      "text/plain": [
       "41"
      ]
     },
     "execution_count": 62,
     "metadata": {},
     "output_type": "execute_result"
    }
   ],
   "source": [
    "#amount of unique categories\n",
    "df[\"Address\"].nunique()"
   ]
  },
  {
   "cell_type": "code",
   "execution_count": 46,
   "metadata": {},
   "outputs": [
    {
     "data": {
      "text/plain": [
       "Address\n",
       "Av. de Isaac Peral, 61              6\n",
       "C. Armengual de la Mota, 26         4\n",
       "Av. Palma de Mallorca, 20           4\n",
       "Blvr. Louis Pasteur, 20             4\n",
       "C. Félix García Palacios, 1         4\n",
       "Carrer de Joaquín Costa, 6          2\n",
       "Rodríguez Arias K., 58              2\n",
       "Av. de César Augusto, 17-19         2\n",
       "CC Los Fresnos, C. Río de Oro, 3    2\n",
       "Av. del Mestre Rodrigo, 32          2\n",
       "Av. Juan Pablo II, 1                2\n",
       "Name: Name, dtype: int64"
      ]
     },
     "execution_count": 46,
     "metadata": {},
     "output_type": "execute_result"
    }
   ],
   "source": [
    "#find duplicates\n",
    "duplicates = (df.groupby(by=[\"Address\"])\n",
    "    .count()[\"Name\"]\n",
    "    .sort_values(ascending=False)\n",
    "    )\n",
    "    \n",
    "duplicates.loc[duplicates > 1]"
   ]
  },
  {
   "cell_type": "code",
   "execution_count": 47,
   "metadata": {},
   "outputs": [
    {
     "data": {
      "text/plain": [
       "(41, 8)"
      ]
     },
     "execution_count": 47,
     "metadata": {},
     "output_type": "execute_result"
    }
   ],
   "source": [
    "#drop duplicates\n",
    "df_unique = df.drop_duplicates(\n",
    "    subset=[\"Name\", \"Address\"],\n",
    "    keep=\"first\",\n",
    "    inplace=False\n",
    "    ).reset_index(drop=True)\n",
    "\n",
    "#get dataframe shape\n",
    "df_unique.shape"
   ]
  },
  {
   "cell_type": "code",
   "execution_count": 48,
   "metadata": {},
   "outputs": [],
   "source": [
    "#save data to csv\n",
    "df_unique.to_csv(\"basic-fit.csv\", index=False)"
   ]
  },
  {
   "cell_type": "markdown",
   "metadata": {},
   "source": [
    "## Analyzing the data"
   ]
  }
 ],
 "metadata": {
  "kernelspec": {
   "display_name": "Python 3.11.0 64-bit",
   "language": "python",
   "name": "python3"
  },
  "language_info": {
   "codemirror_mode": {
    "name": "ipython",
    "version": 3
   },
   "file_extension": ".py",
   "mimetype": "text/x-python",
   "name": "python",
   "nbconvert_exporter": "python",
   "pygments_lexer": "ipython3",
   "version": "3.11.0"
  },
  "orig_nbformat": 4,
  "vscode": {
   "interpreter": {
    "hash": "aee8b7b246df8f9039afb4144a1f6fd8d2ca17a180786b69acc140d282b71a49"
   }
  }
 },
 "nbformat": 4,
 "nbformat_minor": 2
}
