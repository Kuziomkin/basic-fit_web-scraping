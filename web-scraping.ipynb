{
 "cells": [
  {
   "attachments": {},
   "cell_type": "markdown",
   "metadata": {},
   "source": [
    "# Basic-Fit feedbacks analysis"
   ]
  },
  {
   "cell_type": "code",
   "execution_count": 49,
   "metadata": {},
   "outputs": [],
   "source": [
    "from selenium import webdriver\n",
    "from selenium.webdriver.chrome.service import Service\n",
    "from selenium.webdriver.chrome.options import Options\n",
    "from webdriver_manager.chrome import ChromeDriverManager\n",
    "from webdriver_manager.core.os_manager import ChromeType\n",
    "from selenium.webdriver.support.wait import WebDriverWait\n",
    "from selenium.webdriver.support import expected_conditions as EC\n",
    "from selenium.webdriver.common.action_chains import ActionChains\n",
    "import time\n",
    "import pandas as pd"
   ]
  },
  {
   "cell_type": "code",
   "execution_count": 50,
   "metadata": {},
   "outputs": [],
   "source": [
    "#set up configurations\n",
    "options = Options()\n",
    "options.add_argument(\"--disable-blink-features=AutomationControlled\")\n",
    "options.add_argument(\"--headless\")  # Required for Codespaces\n",
    "options.add_argument(\"--no-sandbox\")\n",
    "options.add_argument(\"--disable-dev-shm-usage\")\n",
    "\n",
    "#read data from csv\n",
    "df = pd.read_csv(\"basic-fit.csv\")"
   ]
  },
  {
   "cell_type": "code",
   "execution_count": 51,
   "metadata": {},
   "outputs": [],
   "source": [
    "#create dataframe\n",
    "\n",
    "df_feedbacks = pd.DataFrame(\n",
    "    {\n",
    "        \"Author\": pd.Series(dtype=\"str\"),\n",
    "        \"Stars\": pd.Series(dtype=\"int\"),\n",
    "        \"Date\": pd.Series(dtype=\"str\"),\n",
    "        \"Comment\": pd.Series(dtype=\"str\"),\n",
    "        \"Link\" : pd.Series(dtype=\"str\")\n",
    "    }\n",
    ")"
   ]
  },
  {
   "cell_type": "code",
   "execution_count": 52,
   "metadata": {},
   "outputs": [],
   "source": [
    "#create a list of links\n",
    "links_list = df['Link'].tolist()"
   ]
  },
  {
   "cell_type": "code",
   "execution_count": null,
   "metadata": {},
   "outputs": [
    {
     "ename": "TimeoutException",
     "evalue": "Message: \nStacktrace:\n#0 0x5a6db8666d0a <unknown>\n#1 0x5a6db81175f0 <unknown>\n#2 0x5a6db8168a33 <unknown>\n#3 0x5a6db8168c21 <unknown>\n#4 0x5a6db81b7274 <unknown>\n#5 0x5a6db818e68d <unknown>\n#6 0x5a6db81b4660 <unknown>\n#7 0x5a6db818e433 <unknown>\n#8 0x5a6db815aea3 <unknown>\n#9 0x5a6db815bb01 <unknown>\n#10 0x5a6db862bb5b <unknown>\n#11 0x5a6db862fa41 <unknown>\n#12 0x5a6db8612c52 <unknown>\n#13 0x5a6db86305b4 <unknown>\n#14 0x5a6db85f6f0f <unknown>\n#15 0x5a6db8654db8 <unknown>\n#16 0x5a6db8654f96 <unknown>\n#17 0x5a6db8665b56 <unknown>\n#18 0x7bacddf7f609 start_thread\n",
     "output_type": "error",
     "traceback": [
      "\u001b[31m---------------------------------------------------------------------------\u001b[39m",
      "\u001b[31mTimeoutException\u001b[39m                          Traceback (most recent call last)",
      "\u001b[36mCell\u001b[39m\u001b[36m \u001b[39m\u001b[32mIn[53]\u001b[39m\u001b[32m, line 50\u001b[39m\n\u001b[32m     47\u001b[39m xpath = xpath + \u001b[33m\"\u001b[39m\u001b[33m]\u001b[39m\u001b[33m\"\u001b[39m\n\u001b[32m     49\u001b[39m driver.save_screenshot(\u001b[33m\"\u001b[39m\u001b[33mdebug.png\u001b[39m\u001b[33m\"\u001b[39m)\n\u001b[32m---> \u001b[39m\u001b[32m50\u001b[39m comment_section = \u001b[43mWebDriverWait\u001b[49m\u001b[43m(\u001b[49m\u001b[43mdriver\u001b[49m\u001b[43m,\u001b[49m\u001b[32;43m10\u001b[39;49m\u001b[43m)\u001b[49m\u001b[43m.\u001b[49m\u001b[43muntil\u001b[49m\u001b[43m(\u001b[49m\u001b[43mEC\u001b[49m\u001b[43m.\u001b[49m\u001b[43mvisibility_of_element_located\u001b[49m\u001b[43m(\u001b[49m\u001b[43m(\u001b[49m\u001b[33;43m\"\u001b[39;49m\u001b[33;43mxpath\u001b[39;49m\u001b[33;43m\"\u001b[39;49m\u001b[43m,\u001b[49m\u001b[43m \u001b[49m\u001b[43mxpath\u001b[49m\u001b[43m)\u001b[49m\u001b[43m)\u001b[49m\u001b[43m)\u001b[49m\n\u001b[32m     52\u001b[39m \u001b[38;5;66;03m#scroll down to comment\u001b[39;00m\n\u001b[32m     53\u001b[39m comment_section = WebDriverWait(driver,\u001b[32m10\u001b[39m).until(EC.visibility_of_element_located((\u001b[33m\"\u001b[39m\u001b[33mxpath\u001b[39m\u001b[33m\"\u001b[39m, xpath)))\n",
      "\u001b[36mFile \u001b[39m\u001b[32m/workspaces/basic-fit_web-scraping/.venv/lib/python3.12/site-packages/selenium/webdriver/support/wait.py:146\u001b[39m, in \u001b[36mWebDriverWait.until\u001b[39m\u001b[34m(self, method, message)\u001b[39m\n\u001b[32m    144\u001b[39m         \u001b[38;5;28;01mbreak\u001b[39;00m\n\u001b[32m    145\u001b[39m     time.sleep(\u001b[38;5;28mself\u001b[39m._poll)\n\u001b[32m--> \u001b[39m\u001b[32m146\u001b[39m \u001b[38;5;28;01mraise\u001b[39;00m TimeoutException(message, screen, stacktrace)\n",
      "\u001b[31mTimeoutException\u001b[39m: Message: \nStacktrace:\n#0 0x5a6db8666d0a <unknown>\n#1 0x5a6db81175f0 <unknown>\n#2 0x5a6db8168a33 <unknown>\n#3 0x5a6db8168c21 <unknown>\n#4 0x5a6db81b7274 <unknown>\n#5 0x5a6db818e68d <unknown>\n#6 0x5a6db81b4660 <unknown>\n#7 0x5a6db818e433 <unknown>\n#8 0x5a6db815aea3 <unknown>\n#9 0x5a6db815bb01 <unknown>\n#10 0x5a6db862bb5b <unknown>\n#11 0x5a6db862fa41 <unknown>\n#12 0x5a6db8612c52 <unknown>\n#13 0x5a6db86305b4 <unknown>\n#14 0x5a6db85f6f0f <unknown>\n#15 0x5a6db8654db8 <unknown>\n#16 0x5a6db8654f96 <unknown>\n#17 0x5a6db8665b56 <unknown>\n#18 0x7bacddf7f609 start_thread\n"
     ]
    }
   ],
   "source": [
    "driver = webdriver.Chrome(options=options)\n",
    "#driver = webdriver.Chrome(service=Service(ChromeDriverManager().install()), options=options)\n",
    "actions = ActionChains(driver)\n",
    "\n",
    "#open the first link from the list\n",
    "driver.get(links_list[40])\n",
    "\n",
    "#acceptance offerta\n",
    "accept_button = driver.find_element(\"xpath\", \"//button[@aria-label='Accept all']\")\n",
    "time.sleep(1)\n",
    "accept_button.click()\n",
    "\n",
    "time.sleep(3)\n",
    "#expand comments section\n",
    "button_more_rev_list = driver.find_elements(\"xpath\", \"//button[contains(@aria-label,'More reviews')]\")\n",
    "\n",
    "\n",
    "if button_more_rev_list:\n",
    "    actions.move_to_element(button_more_rev_list[0]).perform()\n",
    "    button_more_rev = WebDriverWait(driver,20).until(EC.element_to_be_clickable((\"xpath\", \"//button[contains(@aria-label,'More reviews')]\")))\n",
    "\n",
    "#find review\n",
    "reviews = int(\n",
    "   button_more_rev\n",
    "   .get_attribute(\"aria-label\")\n",
    "   .split(\"reviews\")[1]\n",
    "   .strip()[1:-1]   #remove brackets\n",
    "   .replace(\",\", \"\")        #replace comma\n",
    "   )\n",
    "\n",
    "\n",
    "button_more_rev.click()\n",
    "\n",
    "#creat list of id comments\n",
    "id_list = []\n",
    "\n",
    "#counter\n",
    "count = 0\n",
    "\n",
    "#find all\n",
    "while(count < reviews):\n",
    "\n",
    "   xpath = \"//div[@class='jftiEf fontBodyMedium'\"\n",
    "   for i in id_list:\n",
    "       xpath = xpath + f\" and not(contains(@data-review-id, '{i}'))\"\n",
    "\n",
    "   xpath = xpath + \"]\"\n",
    "    \n",
    "   #driver.save_screenshot(\"debug.png\")\n",
    "   comment_section = WebDriverWait(driver,10).until(EC.visibility_of_element_located((\"xpath\", xpath)))\n",
    "   \n",
    "   #scroll down to comment\n",
    "   comment_section = WebDriverWait(driver,10).until(EC.visibility_of_element_located((\"xpath\", xpath)))\n",
    "   actions.move_to_element(comment_section).perform()\n",
    "\n",
    "   time.sleep(1)\n",
    "\n",
    "   #scroll down to like panel\n",
    "   comment_section = WebDriverWait(driver,10).until(EC.visibility_of_element_located((\"xpath\", xpath)))\n",
    "   panels = comment_section.find_elements(\"xpath\",(\".//div[@class='Gd9ibe OyjIsf']\"))\n",
    "   \n",
    "   if panels:\n",
    "        panel = panels[0]\n",
    "        actions.move_to_element(panel).perform()\n",
    "        #find panel location\n",
    "        panel_x = panel.location_once_scrolled_into_view[\"x\"]\n",
    "        panel_y = panel.location_once_scrolled_into_view[\"y\"]\n",
    "        #scrol down 500 pixel from the panel\n",
    "        actions.scroll(panel_x,panel_y, 0, 500).perform()\n",
    "   else:\n",
    "       #find stars section location\n",
    "       stars_section_x = stars_section.location_once_scrolled_into_view[\"x\"]\n",
    "       stars_section_y = stars_section.location_once_scrolled_into_view[\"y\"]\n",
    "       #scrol down 500 pixel from the panel\n",
    "       actions.scroll(stars_section_x, stars_section_y, 0, 500).perform()\n",
    "       \n",
    "    \n",
    "   time.sleep(3)\n",
    "\n",
    "   #find id\n",
    "   comment_section =WebDriverWait(driver,10).until(EC.visibility_of_element_located((\"xpath\", xpath)))\n",
    "   id = comment_section.get_attribute(\"data-review-id\")\n",
    "   \n",
    "   #add id to hte list\n",
    "   id_list.append(id)\n",
    "   \n",
    "   #find comment author\n",
    "   comment_section =WebDriverWait(driver,10).until(EC.visibility_of_element_located((\"xpath\", xpath)))\n",
    "   author_name = comment_section.find_element(\"xpath\", \".//div[@class='d4r55']/span\").get_attribute(\"innerHTML\")\n",
    "   \n",
    "   #find comment rating\n",
    "   comment_section =WebDriverWait(driver,10).until(EC.visibility_of_element_located((\"xpath\", xpath)))\n",
    "   stars_section = comment_section.find_element(\"xpath\", \".//div[@class='DU9Pgb']/span[2]\")\n",
    "   stars = stars_section.get_attribute(\"aria-label\").strip().split(\" \")[0]\n",
    "\n",
    "\n",
    "   #find publication date\n",
    "   comment_section =WebDriverWait(driver,10).until(EC.visibility_of_element_located((\"xpath\", xpath)))\n",
    "   publication_date = comment_section.find_element(\"xpath\", \".//div[@class='DU9Pgb']/span[3]\").get_attribute(\"innerHTML\")\n",
    "   \n",
    "   \n",
    "   #find more button\n",
    "   comment_section =WebDriverWait(driver,10).until(EC.visibility_of_element_located((\"xpath\", xpath)))\n",
    "   more_button = comment_section.find_elements(\"xpath\", \".//button[@class='w8nwRe kyuRq']\")\n",
    "   \n",
    "   #click on button\n",
    "   if more_button:\n",
    "        actions.move_to_element(more_button[0]).perform()\n",
    "        more_button[0].click()\n",
    "   \n",
    "   #find comment\n",
    "   comment_section =WebDriverWait(driver,10).until(EC.visibility_of_element_located((\"xpath\", xpath)))\n",
    "   comments = comment_section.find_elements(\"xpath\", \".//span[@class='wiI7pd']\")\n",
    "\n",
    "   if comments:\n",
    "       comment = comments[0].get_attribute(\"innerHTML\")\n",
    "   else:\n",
    "       comment = None\n",
    "   \n",
    "   #create a new row\n",
    "   new_row = {\n",
    "        \"Author\" : f\"{author_name}\",\n",
    "        \"Stars\" : f\"{stars}\",\n",
    "        \"Date\" : f\"{publication_date}\",\n",
    "        \"Comment\" : f\"{comment}\",\n",
    "        \"Link\" : f\"{links_list[40]}\"\n",
    "    }\n",
    "    \n",
    "   #add the row to the dataframe\n",
    "   df_feedbacks = pd.concat([df_feedbacks, pd.DataFrame([new_row])], ignore_index=True)\n",
    "   count += 1\n"
   ]
  },
  {
   "cell_type": "code",
   "execution_count": null,
   "metadata": {},
   "outputs": [
    {
     "data": {
      "text/plain": [
       "(105, 5)"
      ]
     },
     "execution_count": 70,
     "metadata": {},
     "output_type": "execute_result"
    }
   ],
   "source": [
    "df_feedbacks.shape"
   ]
  },
  {
   "cell_type": "code",
   "execution_count": null,
   "metadata": {},
   "outputs": [
    {
     "data": {
      "text/plain": [
       "Author     105\n",
       "Stars        3\n",
       "Date         5\n",
       "Comment     94\n",
       "Link         1\n",
       "dtype: int64"
      ]
     },
     "execution_count": 71,
     "metadata": {},
     "output_type": "execute_result"
    }
   ],
   "source": [
    "df_feedbacks.nunique()"
   ]
  },
  {
   "cell_type": "code",
   "execution_count": null,
   "metadata": {},
   "outputs": [
    {
     "data": {
      "text/html": [
       "<div>\n",
       "<style scoped>\n",
       "    .dataframe tbody tr th:only-of-type {\n",
       "        vertical-align: middle;\n",
       "    }\n",
       "\n",
       "    .dataframe tbody tr th {\n",
       "        vertical-align: top;\n",
       "    }\n",
       "\n",
       "    .dataframe thead th {\n",
       "        text-align: right;\n",
       "    }\n",
       "</style>\n",
       "<table border=\"1\" class=\"dataframe\">\n",
       "  <thead>\n",
       "    <tr style=\"text-align: right;\">\n",
       "      <th></th>\n",
       "      <th>Author</th>\n",
       "      <th>Stars</th>\n",
       "      <th>Date</th>\n",
       "      <th>Comment</th>\n",
       "      <th>Link</th>\n",
       "    </tr>\n",
       "  </thead>\n",
       "  <tbody>\n",
       "    <tr>\n",
       "      <th>0</th>\n",
       "      <td>Marta Martinez</td>\n",
       "      <td>5</td>\n",
       "      <td>a month ago</td>\n",
       "      <td>El gimnasio está genial hay un montón de máqui...</td>\n",
       "      <td>https://www.google.com/maps/place/Basic-Fit+Na...</td>\n",
       "    </tr>\n",
       "    <tr>\n",
       "      <th>1</th>\n",
       "      <td>Tania López</td>\n",
       "      <td>5</td>\n",
       "      <td>a month ago</td>\n",
       "      <td>Muy buena maquinaria y muy buen ambiente para ...</td>\n",
       "      <td>https://www.google.com/maps/place/Basic-Fit+Na...</td>\n",
       "    </tr>\n",
       "    <tr>\n",
       "      <th>2</th>\n",
       "      <td>Juan Trillo Pita da Veiga</td>\n",
       "      <td>5</td>\n",
       "      <td>a month ago</td>\n",
       "      <td>Es un gimnasio muy grande que dispone de todo ...</td>\n",
       "      <td>https://www.google.com/maps/place/Basic-Fit+Na...</td>\n",
       "    </tr>\n",
       "    <tr>\n",
       "      <th>3</th>\n",
       "      <td>Paula Beatriz</td>\n",
       "      <td>5</td>\n",
       "      <td>2 weeks ago</td>\n",
       "      <td>Muy buen ambiente, personal siempre dispuesto ...</td>\n",
       "      <td>https://www.google.com/maps/place/Basic-Fit+Na...</td>\n",
       "    </tr>\n",
       "    <tr>\n",
       "      <th>4</th>\n",
       "      <td>Adriana Sabio</td>\n",
       "      <td>5</td>\n",
       "      <td>2 weeks ago</td>\n",
       "      <td>El gimnasio está genial! Fui con el pase de un...</td>\n",
       "      <td>https://www.google.com/maps/place/Basic-Fit+Na...</td>\n",
       "    </tr>\n",
       "  </tbody>\n",
       "</table>\n",
       "</div>"
      ],
      "text/plain": [
       "                      Author Stars         Date  \\\n",
       "0             Marta Martinez     5  a month ago   \n",
       "1                Tania López     5  a month ago   \n",
       "2  Juan Trillo Pita da Veiga     5  a month ago   \n",
       "3              Paula Beatriz     5  2 weeks ago   \n",
       "4              Adriana Sabio     5  2 weeks ago   \n",
       "\n",
       "                                             Comment  \\\n",
       "0  El gimnasio está genial hay un montón de máqui...   \n",
       "1  Muy buena maquinaria y muy buen ambiente para ...   \n",
       "2  Es un gimnasio muy grande que dispone de todo ...   \n",
       "3  Muy buen ambiente, personal siempre dispuesto ...   \n",
       "4  El gimnasio está genial! Fui con el pase de un...   \n",
       "\n",
       "                                                Link  \n",
       "0  https://www.google.com/maps/place/Basic-Fit+Na...  \n",
       "1  https://www.google.com/maps/place/Basic-Fit+Na...  \n",
       "2  https://www.google.com/maps/place/Basic-Fit+Na...  \n",
       "3  https://www.google.com/maps/place/Basic-Fit+Na...  \n",
       "4  https://www.google.com/maps/place/Basic-Fit+Na...  "
      ]
     },
     "execution_count": 72,
     "metadata": {},
     "output_type": "execute_result"
    }
   ],
   "source": [
    "df_feedbacks.head(5)"
   ]
  }
 ],
 "metadata": {
  "kernelspec": {
   "display_name": ".venv",
   "language": "python",
   "name": "python3"
  },
  "language_info": {
   "codemirror_mode": {
    "name": "ipython",
    "version": 3
   },
   "file_extension": ".py",
   "mimetype": "text/x-python",
   "name": "python",
   "nbconvert_exporter": "python",
   "pygments_lexer": "ipython3",
   "version": "3.12.1"
  },
  "orig_nbformat": 4
 },
 "nbformat": 4,
 "nbformat_minor": 2
}
